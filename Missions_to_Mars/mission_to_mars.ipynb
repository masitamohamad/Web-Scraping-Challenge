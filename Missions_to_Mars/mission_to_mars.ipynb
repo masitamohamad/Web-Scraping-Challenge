{
 "cells": [
  {
   "cell_type": "code",
   "execution_count": 1,
   "metadata": {},
   "outputs": [],
   "source": [
    "from flask import Flask, render_template\n",
    "from bs4 import BeautifulSoup as bs \n",
    "import requests"
   ]
  },
  {
   "cell_type": "markdown",
   "metadata": {},
   "source": [
    "### NASA Mars News"
   ]
  },
  {
   "cell_type": "code",
   "execution_count": 2,
   "metadata": {},
   "outputs": [],
   "source": [
    "# Send a GET request, convert the HTML to plain text and store that in 'response'.\n",
    "response = requests.get(\"https://mars.nasa.gov/news/?page=0&per_page=40&order=publish_date+desc%2Ccreated_at+desc&search=&category=19%2C165%2C184%2C204&blank_scope=Latest\").text"
   ]
  },
  {
   "cell_type": "code",
   "execution_count": 3,
   "metadata": {
    "tags": [
     "outputPrepend"
    ]
   },
   "outputs": [],
   "source": [
    "# Create BeautifulSoup object; parse with 'html.parser'\n",
    "soup = bs(response, 'html.parser')"
   ]
  },
  {
   "cell_type": "code",
   "execution_count": 4,
   "metadata": {},
   "outputs": [
    {
     "output_type": "execute_result",
     "data": {
      "text/plain": "<div class=\"slide\">\n<div class=\"image_and_description_container\">\n<a href=\"/news/8659/alabama-high-school-student-names-nasas-mars-helicopter/\">\n<div class=\"rollover_description\">\n<div class=\"rollover_description_inner\">\nVaneeza Rupani's essay was chosen as the name for the small spacecraft, which will mark NASA's first attempt at powered flight on another planet.\n</div>\n<div class=\"overlay_arrow\">\n<img alt=\"More\" src=\"/assets/overlay-arrow.png\"/>\n</div>\n</div>\n<img alt=\"Alabama High School Student Names NASA's Mars Helicopter\" class=\"img-lazy\" data-lazy=\"/system/news_items/list_view_images/8659_1-PIA23883-MAIN-320x240.jpg\" src=\"/assets/loading_320x240.png\"/>\n</a>\n</div>\n<div class=\"content_title\">\n<a href=\"/news/8659/alabama-high-school-student-names-nasas-mars-helicopter/\">\nAlabama High School Student Names NASA's Mars Helicopter\n</a>\n</div>\n</div>"
     },
     "metadata": {},
     "execution_count": 4
    }
   ],
   "source": [
    "# Extract HTML structure from parent element\n",
    "news_parent = soup.find_all('div', class_='slide')\n",
    "news_parent[0]"
   ]
  },
  {
   "cell_type": "code",
   "execution_count": 5,
   "metadata": {},
   "outputs": [],
   "source": [
    "news_title = soup.find_all('div', class_='content_title')\n",
    "latest_news_title = news_title[0].a.text"
   ]
  },
  {
   "cell_type": "code",
   "execution_count": 6,
   "metadata": {},
   "outputs": [],
   "source": [
    "news_paragraph= soup.find_all('div', class_='rollover_description_inner')\n",
    "latest_news_paragraph = news_paragraph[0].get_text()"
   ]
  },
  {
   "cell_type": "code",
   "execution_count": 7,
   "metadata": {},
   "outputs": [
    {
     "output_type": "stream",
     "name": "stdout",
     "text": "Latest News Title: \nAlabama High School Student Names NASA's Mars Helicopter\n \nVaneeza Rupani's essay was chosen as the name for the small spacecraft, which will mark NASA's first attempt at powered flight on another planet.\n\n"
    }
   ],
   "source": [
    "print(f\"Latest News Title: {latest_news_title} {latest_news_paragraph}\")"
   ]
  },
  {
   "cell_type": "markdown",
   "metadata": {},
   "source": [
    "### JPL Mars Space Images - Featured Image"
   ]
  },
  {
   "cell_type": "code",
   "execution_count": 8,
   "metadata": {},
   "outputs": [],
   "source": [
    "from splinter import Browser"
   ]
  },
  {
   "cell_type": "code",
   "execution_count": 9,
   "metadata": {},
   "outputs": [],
   "source": [
    "executable_path = {'executable_path': 'chromedriver.exe'}\n",
    "browser = Browser('chrome', **executable_path, headless=False)"
   ]
  },
  {
   "cell_type": "code",
   "execution_count": 10,
   "metadata": {},
   "outputs": [],
   "source": [
    "url = 'https://www.jpl.nasa.gov/spaceimages/?search=&category=Mars'\n",
    "browser.visit(url)"
   ]
  },
  {
   "cell_type": "code",
   "execution_count": 11,
   "metadata": {},
   "outputs": [],
   "source": [
    "# Navigate to Featured Image url\n",
    "browser.click_link_by_partial_text('FULL IMAGE')"
   ]
  },
  {
   "cell_type": "code",
   "execution_count": 12,
   "metadata": {},
   "outputs": [],
   "source": [
    "current_html = browser.html"
   ]
  },
  {
   "cell_type": "code",
   "execution_count": 13,
   "metadata": {},
   "outputs": [],
   "source": [
    "# Create BeautifulSoup object of page currently on browser\n",
    "image_soup = bs(current_html, 'html.parser')"
   ]
  },
  {
   "cell_type": "code",
   "execution_count": 14,
   "metadata": {},
   "outputs": [
    {
     "output_type": "execute_result",
     "data": {
      "text/plain": "<img class=\"fancybox-image\" src=\"/spaceimages/images/mediumsize/PIA16565_ip.jpg\" style=\"display: inline;\"/>"
     },
     "metadata": {},
     "execution_count": 14
    }
   ],
   "source": [
    "# Use Beautiful Soup's find() method to navigate and retrieve image attributes\n",
    "featured_img_class = image_soup.find('img', class_='fancybox-image')\n",
    "featured_img_class"
   ]
  },
  {
   "cell_type": "code",
   "execution_count": 15,
   "metadata": {},
   "outputs": [
    {
     "output_type": "execute_result",
     "data": {
      "text/plain": "'/spaceimages/images/mediumsize/PIA16565_ip.jpg'"
     },
     "metadata": {},
     "execution_count": 15
    }
   ],
   "source": [
    "partial_img_url = featured_img_class[\"src\"]\n",
    "partial_img_url"
   ]
  },
  {
   "cell_type": "code",
   "execution_count": 16,
   "metadata": {},
   "outputs": [
    {
     "output_type": "stream",
     "name": "stdout",
     "text": "https://www.jpl.nasa.gov/spaceimages/images/mediumsize/PIA16565_ip.jpg\n"
    }
   ],
   "source": [
    "featured_image_url = \"https://www.jpl.nasa.gov\" + partial_img_url\n",
    "print(featured_image_url)"
   ]
  },
  {
   "cell_type": "markdown",
   "metadata": {},
   "source": [
    "### Mars Weather"
   ]
  },
  {
   "cell_type": "code",
   "execution_count": 239,
   "metadata": {},
   "outputs": [],
   "source": [
    "from selenium import webdriver\n",
    "driver = webdriver.Chrome()\n",
    "driver.get('https://twitter.com/marswxreport?lang=en')"
   ]
  },
  {
   "cell_type": "code",
   "execution_count": 240,
   "metadata": {},
   "outputs": [],
   "source": [
    "html = driver.page_source\n",
    "driver.close()"
   ]
  },
  {
   "cell_type": "code",
   "execution_count": 241,
   "metadata": {
    "tags": [
     "outputPrepend"
    ]
   },
   "outputs": [],
   "source": [
    "# Parse HTML with Beautiful Soup\n",
    "twitter_soup = bs(html, 'html.parser')"
   ]
  },
  {
   "cell_type": "code",
   "execution_count": 242,
   "metadata": {},
   "outputs": [
    {
     "output_type": "execute_result",
     "data": {
      "text/plain": "<span class=\"css-901oao css-16my406 r-1qd0xha r-ad9z0x r-bcqeeo r-qvutc0\">Log in</span>"
     },
     "metadata": {},
     "execution_count": 242
    }
   ],
   "source": [
    "# Find all the tweets on the page\n",
    "latest_tweets = twitter_soup.find_all('span', class_='css-901oao css-16my406 r-1qd0xha r-ad9z0x r-bcqeeo r-qvutc0')\n",
    "latest_tweets[0]"
   ]
  },
  {
   "cell_type": "code",
   "execution_count": 243,
   "metadata": {},
   "outputs": [
    {
     "output_type": "stream",
     "name": "stdout",
     "text": "['Log in', 'Sign up', 'See new Tweets', 'Follow', 'Mars Weather', 'Mars Weather', '@MarsWxReport', 'Updates as avail from the REMS weather instrument aboard ', '.  Data credit: Centro deAstrobiologia, FMI, JPL/NASA, Not an official acct.', 'Gale Crater, Mars', 'Gale Crater, Mars', '51', 'Following', '57.2K', 'Followers', 'Tweets', 'Tweets & replies', 'Media', 'Likes', 'Tweets', 'Tweets & replies', 'Media', 'Likes', 'Mars Weather', 'Mars Weather', 'Fraser Cain', 'Fraser Cain', '@fcain', '·', \"Mars doesn't have much of a magnetosphere, but here's a map -  \", '13', '39', 'Mars Weather', 'Mars Weather', '@MarsWxReport', '·', 'InSight sol 532 (2020-05-26) low -93.1ºC (-135.7ºF) high -1.1ºC (30.0ºF)\\nwinds from the SW at 4.9 m/s (10.9 mph) gusting to 17.7 m/s (39.6 mph)\\npressure at 7.10 hPa', '7', '14', 'Mars Weather', 'Mars Weather', '@MarsWxReport', '·', 'InSight sol 531 (2020-05-24) low -93.5ºC (-136.2ºF) high -6.1ºC (21.0ºF)\\nwinds from the WNW at 5.6 m/s (12.5 mph) gusting to 21.1 m/s (47.3 mph)\\npressure at 7.10 hPa', '6', '22', 'Mars Weather', 'Mars Weather', '@MarsWxReport', '·', 'InSight sol 530 (2020-05-23) low -92.6ºC (-134.7ºF) high 0.4ºC (32.7ºF)\\nwinds from the SW at 4.7 m/s (10.6 mph) gusting to 17.4 m/s (38.9 mph)\\npressure at 7.10 hPa', '2', '7', '32', 'New to Twitter?', 'Sign up now to get your own personalized timeline!', 'Sign up', 'You might like', 'NASA InSight', 'NASA InSight', '@NASAInSight', 'Follow', 'Spirit and Oppy', 'Spirit and Oppy', '@MarsRovers', 'Follow', 'HiRISE: Beautiful Mars (NASA)', 'HiRISE: Beautiful Mars (NASA)', '@HiRISE', 'Follow', 'Show more', 'What’s happening', 'COVID-19', '·', 'LIVE', 'COVID-19: Updates for the US', '#HBOMax', 'Now Streaming', 'Promoted by HBO Max', 'Trending in United States', 'Looting', '77.6K Tweets', 'Celebrity', '·', '2 hours ago', 'Star Wars’ John Boyega speaks out against racism following death of George Floyd', 'Celebrities · Trending', 'Denise', 'Trending with: Rinna, Teddi', 'Show more', 'Terms', 'Privacy policy', 'Cookies', 'Ads info', '© 2020 Twitter, Inc.']\n"
    }
   ],
   "source": [
    "tweet_list = []\n",
    "for tweet in latest_tweets:\n",
    "\n",
    "    tweet_list.append(tweet.text)\n",
    "\n",
    "print(tweet_list)"
   ]
  },
  {
   "cell_type": "code",
   "execution_count": 244,
   "metadata": {},
   "outputs": [
    {
     "output_type": "execute_result",
     "data": {
      "text/plain": "'InSight sol 532 (2020-05-26) low -93.1ºC (-135.7ºF) high -1.1ºC (30.0ºF)\\nwinds from the SW at 4.9 m/s (10.9 mph) gusting to 17.7 m/s (39.6 mph)\\npressure at 7.10 hPa'"
     },
     "metadata": {},
     "execution_count": 244
    }
   ],
   "source": [
    "# Find weather tweet using keyword, store the first result as the latest weather tweet\n",
    "keyword = 'InSight'\n",
    "weather_tweet = [i for i in tweet_list if keyword in i] \n",
    "latest_weather_tweet = weather_tweet[0]\n",
    "latest_weather_tweet"
   ]
  },
  {
   "cell_type": "markdown",
   "metadata": {},
   "source": [
    "### Mars Facts"
   ]
  },
  {
   "cell_type": "code",
   "execution_count": null,
   "metadata": {},
   "outputs": [],
   "source": []
  },
  {
   "cell_type": "markdown",
   "metadata": {},
   "source": [
    "### Mars Hemispheres"
   ]
  },
  {
   "cell_type": "code",
   "execution_count": null,
   "metadata": {},
   "outputs": [],
   "source": []
  }
 ],
 "metadata": {
  "language_info": {
   "codemirror_mode": {
    "name": "ipython",
    "version": 3
   },
   "file_extension": ".py",
   "mimetype": "text/x-python",
   "name": "python",
   "nbconvert_exporter": "python",
   "pygments_lexer": "ipython3",
   "version": "3.7.4-final"
  },
  "orig_nbformat": 2,
  "kernelspec": {
   "name": "python3",
   "display_name": "Python 3"
  }
 },
 "nbformat": 4,
 "nbformat_minor": 2
}